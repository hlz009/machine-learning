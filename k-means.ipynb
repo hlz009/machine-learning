{
 "cells": [
  {
   "cell_type": "code",
   "execution_count": 8,
   "metadata": {},
   "outputs": [
    {
     "data": {
      "text/plain": [
       "0.8112781244591328"
      ]
     },
     "execution_count": 8,
     "metadata": {},
     "output_type": "execute_result"
    }
   ],
   "source": [
    "import math\n",
    "\n",
    "\n",
    "def complute(num1, num2):\n",
    "    return -1*(num1*math.log(num1, 2) + num2*math.log(num2, 2))\n",
    "\n",
    "complute(0.75, 0.25)"
   ]
  },
  {
   "cell_type": "code",
   "execution_count": 12,
   "metadata": {},
   "outputs": [
    {
     "data": {
      "text/plain": [
       "0.924"
      ]
     },
     "execution_count": 12,
     "metadata": {},
     "output_type": "execute_result"
    }
   ],
   "source": [
    "import math\n",
    "\n",
    "def sum(num1, num2):\n",
    "    return num1+num2\n",
    "\n",
    "sum(0.6, 0.4*0.81)"
   ]
  },
  {
   "cell_type": "code",
   "execution_count": 13,
   "metadata": {},
   "outputs": [
    {
     "name": "stdout",
     "output_type": "stream",
     "text": [
      "[1 2 1 1 1 1 1 1 0 0 0 1 1 1 0 1 1 1 1 0 0]\n"
     ]
    }
   ],
   "source": [
    "#k-means训练\n",
    "\n",
    "from sklearn.cluster import KMeans\n",
    "\n",
    " #  第一列表示球员每分钟助攻数：assists_per_minute\n",
    " #  第二列表示球员每分钟得分数：points_per_minute\n",
    "\n",
    "X = [[0.0888, 0.5885],\n",
    " [0.1399, 0.8291],\n",
    " [0.0747, 0.4974],\n",
    " [0.0983, 0.5772],\n",
    " [0.1276, 0.5703],\n",
    " [0.1671, 0.5835],\n",
    " [0.1906, 0.5276],\n",
    " [0.1061, 0.5523],\n",
    " [0.2446, 0.4007],\n",
    " [0.1670, 0.4770],\n",
    " [0.2485, 0.4313],\n",
    " [0.1227, 0.4909],\n",
    " [0.1240, 0.5668],\n",
    " [0.1461, 0.5113],\n",
    " [0.2315, 0.3788],\n",
    " [0.0494, 0.5590],\n",
    " [0.1107, 0.4799],\n",
    " [0.2521, 0.5735],\n",
    " [0.1007, 0.6318],\n",
    " [0.1067, 0.4326],\n",
    " [0.1956, 0.4280]\n",
    " ]\n",
    "\n",
    "clf = KMeans(n_clusters=3)\n",
    "y_pred = clf.fit_predict(X)\n",
    "print(y_pred)"
   ]
  },
  {
   "cell_type": "code",
   "execution_count": 20,
   "metadata": {},
   "outputs": [
    {
     "data": {
      "text/plain": [
       "Text(0, 0.5, '每分钟得分数')"
      ]
     },
     "execution_count": 20,
     "metadata": {},
     "output_type": "execute_result"
    },
    {
     "data": {
      "image/png": "[encoded data removed]",
      "text/plain": [
       "<Figure size 720x360 with 1 Axes>"
      ]
     },
     "metadata": {
      "needs_background": "light"
     },
     "output_type": "display_data"
    }
   ],
   "source": [
    "import matplotlib.pyplot as plt\n",
    "import matplotlib.font_manager as fm\n",
    "%matplotlib inline  \n",
    "\n",
    "# %matplotlib inline这个必须加，否则在jupyter无法出图\n",
    "# fname 为 你下载的字体库路径，注意 SimHei.ttf 字体的路径\n",
    "zhfont1 = fm.FontProperties(fname=\"SimHei.ttf\") \n",
    "\n",
    "x = [n[0] for n in X]\n",
    "y = [n[1] for n in X]\n",
    "plt.figure(figsize=(10, 5))\n",
    "\n",
    "plt.scatter(x, y, y_pred, marker='x')\n",
    "plt.title(\"Kmeans-篮球数据集\", fontproperties=zhfont1, fontsize=18)\n",
    "\n",
    "plt.xlabel(\"每分钟助攻数\", fontproperties=zhfont1, fontsize=18)\n",
    "plt.ylabel(\"每分钟得分数\", fontproperties=zhfont1, fontsize=18)"
   ]
  },
  {
   "cell_type": "code",
   "execution_count": null,
   "metadata": {},
   "outputs": [],
   "source": []
  }
 ],
 "metadata": {
  "kernelspec": {
   "display_name": "Python 3",
   "language": "python",
   "name": "python3"
  },
  "language_info": {
   "codemirror_mode": {
    "name": "ipython",
    "version": 3
   },
   "file_extension": ".py",
   "mimetype": "text/x-python",
   "name": "python",
   "nbconvert_exporter": "python",
   "pygments_lexer": "ipython3",
   "version": "3.7.1"
  }
 },
 "nbformat": 4,
 "nbformat_minor": 2
}
