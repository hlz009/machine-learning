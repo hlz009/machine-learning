{
 "cells": [
  {
   "cell_type": "code",
   "execution_count": 3,
   "metadata": {},
   "outputs": [
    {
     "name": "stdout",
     "output_type": "stream",
     "text": [
      "<class 'pandas.core.frame.DataFrame'>\n",
      "name           object\n",
      "confidence      int64\n",
      "money         float64\n",
      "dtype: object\n"
     ]
    }
   ],
   "source": [
    "import pandas as pd\n",
    "\n",
    "#读取文件\n",
    "# 查看类型\n",
    "idCardInfo = pd.read_csv(\"idcard.csv\", encoding=\"gbk\")\n",
    "print(type(idCardInfo))\n",
    "print(idCardInfo.dtypes)"
   ]
  },
  {
   "cell_type": "code",
   "execution_count": 7,
   "metadata": {},
   "outputs": [
    {
     "data": {
      "text/html": [
       "<div>\n",
       "<style scoped>\n",
       "    .dataframe tbody tr th:only-of-type {\n",
       "        vertical-align: middle;\n",
       "    }\n",
       "\n",
       "    .dataframe tbody tr th {\n",
       "        vertical-align: top;\n",
       "    }\n",
       "\n",
       "    .dataframe thead th {\n",
       "        text-align: right;\n",
       "    }\n",
       "</style>\n",
       "<table border=\"1\" class=\"dataframe\">\n",
       "  <thead>\n",
       "    <tr style=\"text-align: right;\">\n",
       "      <th></th>\n",
       "      <th>name</th>\n",
       "      <th>confidence</th>\n",
       "      <th>money</th>\n",
       "    </tr>\n",
       "  </thead>\n",
       "  <tbody>\n",
       "    <tr>\n",
       "      <th>0</th>\n",
       "      <td>一百百</td>\n",
       "      <td>77</td>\n",
       "      <td>3333.22</td>\n",
       "    </tr>\n",
       "    <tr>\n",
       "      <th>1</th>\n",
       "      <td>一百</td>\n",
       "      <td>56</td>\n",
       "      <td>323.56</td>\n",
       "    </tr>\n",
       "    <tr>\n",
       "      <th>2</th>\n",
       "      <td>一二三</td>\n",
       "      <td>20</td>\n",
       "      <td>0.00</td>\n",
       "    </tr>\n",
       "    <tr>\n",
       "      <th>3</th>\n",
       "      <td>一一零</td>\n",
       "      <td>48</td>\n",
       "      <td>32348.00</td>\n",
       "    </tr>\n",
       "    <tr>\n",
       "      <th>4</th>\n",
       "      <td>一一一</td>\n",
       "      <td>80</td>\n",
       "      <td>22280.00</td>\n",
       "    </tr>\n",
       "    <tr>\n",
       "      <th>5</th>\n",
       "      <td>一一八</td>\n",
       "      <td>82</td>\n",
       "      <td>32382.00</td>\n",
       "    </tr>\n",
       "    <tr>\n",
       "      <th>6</th>\n",
       "      <td>一一二</td>\n",
       "      <td>30</td>\n",
       "      <td>330.00</td>\n",
       "    </tr>\n",
       "  </tbody>\n",
       "</table>\n",
       "</div>"
      ],
      "text/plain": [
       "  name  confidence     money\n",
       "0  一百百          77   3333.22\n",
       "1   一百          56    323.56\n",
       "2  一二三          20      0.00\n",
       "3  一一零          48  32348.00\n",
       "4  一一一          80  22280.00\n",
       "5  一一八          82  32382.00\n",
       "6  一一二          30    330.00"
      ]
     },
     "execution_count": 7,
     "metadata": {},
     "output_type": "execute_result"
    }
   ],
   "source": [
    "# idCardInfo.head() #  不传参数默认取得前5条\n",
    "idCardInfo.head(7)   #指定参数，获取前面的数据"
   ]
  },
  {
   "cell_type": "code",
   "execution_count": 9,
   "metadata": {},
   "outputs": [
    {
     "data": {
      "text/html": [
       "<div>\n",
       "<style scoped>\n",
       "    .dataframe tbody tr th:only-of-type {\n",
       "        vertical-align: middle;\n",
       "    }\n",
       "\n",
       "    .dataframe tbody tr th {\n",
       "        vertical-align: top;\n",
       "    }\n",
       "\n",
       "    .dataframe thead th {\n",
       "        text-align: right;\n",
       "    }\n",
       "</style>\n",
       "<table border=\"1\" class=\"dataframe\">\n",
       "  <thead>\n",
       "    <tr style=\"text-align: right;\">\n",
       "      <th></th>\n",
       "      <th>name</th>\n",
       "      <th>confidence</th>\n",
       "      <th>money</th>\n",
       "    </tr>\n",
       "  </thead>\n",
       "  <tbody>\n",
       "    <tr>\n",
       "      <th>12</th>\n",
       "      <td>一零一</td>\n",
       "      <td>80</td>\n",
       "      <td>11380.0</td>\n",
       "    </tr>\n",
       "    <tr>\n",
       "      <th>13</th>\n",
       "      <td>常天</td>\n",
       "      <td>88</td>\n",
       "      <td>113388.0</td>\n",
       "    </tr>\n",
       "    <tr>\n",
       "      <th>14</th>\n",
       "      <td>陆永剑</td>\n",
       "      <td>100</td>\n",
       "      <td>44444100.0</td>\n",
       "    </tr>\n",
       "  </tbody>\n",
       "</table>\n",
       "</div>"
      ],
      "text/plain": [
       "   name  confidence       money\n",
       "12  一零一          80     11380.0\n",
       "13   常天          88    113388.0\n",
       "14  陆永剑         100  44444100.0"
      ]
     },
     "execution_count": 9,
     "metadata": {},
     "output_type": "execute_result"
    }
   ],
   "source": [
    "# idCardInfo.tail()  #获取后面的数据，不传递参数 则默认5条\n",
    "idCardInfo.tail(3)  "
   ]
  },
  {
   "cell_type": "code",
   "execution_count": 10,
   "metadata": {},
   "outputs": [
    {
     "data": {
      "text/plain": [
       "Index(['name', 'confidence', 'money'], dtype='object')"
      ]
     },
     "execution_count": 10,
     "metadata": {},
     "output_type": "execute_result"
    }
   ],
   "source": [
    "idCardInfo.columns  #获取数据的列"
   ]
  },
  {
   "cell_type": "code",
   "execution_count": 11,
   "metadata": {},
   "outputs": [
    {
     "data": {
      "text/plain": [
       "(15, 3)"
      ]
     },
     "execution_count": 11,
     "metadata": {},
     "output_type": "execute_result"
    }
   ],
   "source": [
    "idCardInfo.shape #获取数组的形状"
   ]
  },
  {
   "cell_type": "code",
   "execution_count": 13,
   "metadata": {},
   "outputs": [
    {
     "data": {
      "text/plain": [
       "name              一百\n",
       "confidence        56\n",
       "money         323.56\n",
       "Name: 1, dtype: object"
      ]
     },
     "execution_count": 13,
     "metadata": {},
     "output_type": "execute_result"
    }
   ],
   "source": [
    "# idCardInfo.loc[0]  #获取第一行数据\n",
    "\n",
    "idCardInfo.loc[1]  #获取第二行数据"
   ]
  },
  {
   "cell_type": "code",
   "execution_count": 14,
   "metadata": {},
   "outputs": [
    {
     "data": {
      "text/html": [
       "<div>\n",
       "<style scoped>\n",
       "    .dataframe tbody tr th:only-of-type {\n",
       "        vertical-align: middle;\n",
       "    }\n",
       "\n",
       "    .dataframe tbody tr th {\n",
       "        vertical-align: top;\n",
       "    }\n",
       "\n",
       "    .dataframe thead th {\n",
       "        text-align: right;\n",
       "    }\n",
       "</style>\n",
       "<table border=\"1\" class=\"dataframe\">\n",
       "  <thead>\n",
       "    <tr style=\"text-align: right;\">\n",
       "      <th></th>\n",
       "      <th>name</th>\n",
       "      <th>confidence</th>\n",
       "      <th>money</th>\n",
       "    </tr>\n",
       "  </thead>\n",
       "  <tbody>\n",
       "    <tr>\n",
       "      <th>3</th>\n",
       "      <td>一一零</td>\n",
       "      <td>48</td>\n",
       "      <td>32348.0</td>\n",
       "    </tr>\n",
       "    <tr>\n",
       "      <th>4</th>\n",
       "      <td>一一一</td>\n",
       "      <td>80</td>\n",
       "      <td>22280.0</td>\n",
       "    </tr>\n",
       "    <tr>\n",
       "      <th>5</th>\n",
       "      <td>一一八</td>\n",
       "      <td>82</td>\n",
       "      <td>32382.0</td>\n",
       "    </tr>\n",
       "    <tr>\n",
       "      <th>6</th>\n",
       "      <td>一一二</td>\n",
       "      <td>30</td>\n",
       "      <td>330.0</td>\n",
       "    </tr>\n",
       "  </tbody>\n",
       "</table>\n",
       "</div>"
      ],
      "text/plain": [
       "  name  confidence    money\n",
       "3  一一零          48  32348.0\n",
       "4  一一一          80  22280.0\n",
       "5  一一八          82  32382.0\n",
       "6  一一二          30    330.0"
      ]
     },
     "execution_count": 14,
     "metadata": {},
     "output_type": "execute_result"
    }
   ],
   "source": [
    "idCardInfo.loc[3:6]  #使用切片  选取下标第3个到第6个 \n",
    "#（注意这个包含了右边索引的边界值）"
   ]
  },
  {
   "cell_type": "code",
   "execution_count": 15,
   "metadata": {},
   "outputs": [
    {
     "data": {
      "text/plain": [
       "0     一百百\n",
       "1      一百\n",
       "2     一二三\n",
       "3     一一零\n",
       "4     一一一\n",
       "5     一一八\n",
       "6     一一二\n",
       "7     一二一\n",
       "8     一二二\n",
       "9     一一二\n",
       "10    一二四\n",
       "11    一二四\n",
       "12    一零一\n",
       "13     常天\n",
       "14    陆永剑\n",
       "Name: name, dtype: object"
      ]
     },
     "execution_count": 15,
     "metadata": {},
     "output_type": "execute_result"
    }
   ],
   "source": [
    "idCardInfo[\"name\"] #获取列的元素"
   ]
  },
  {
   "cell_type": "code",
   "execution_count": 16,
   "metadata": {},
   "outputs": [
    {
     "data": {
      "text/html": [
       "<div>\n",
       "<style scoped>\n",
       "    .dataframe tbody tr th:only-of-type {\n",
       "        vertical-align: middle;\n",
       "    }\n",
       "\n",
       "    .dataframe tbody tr th {\n",
       "        vertical-align: top;\n",
       "    }\n",
       "\n",
       "    .dataframe thead th {\n",
       "        text-align: right;\n",
       "    }\n",
       "</style>\n",
       "<table border=\"1\" class=\"dataframe\">\n",
       "  <thead>\n",
       "    <tr style=\"text-align: right;\">\n",
       "      <th></th>\n",
       "      <th>name</th>\n",
       "      <th>confidence</th>\n",
       "    </tr>\n",
       "  </thead>\n",
       "  <tbody>\n",
       "    <tr>\n",
       "      <th>0</th>\n",
       "      <td>一百百</td>\n",
       "      <td>77</td>\n",
       "    </tr>\n",
       "    <tr>\n",
       "      <th>1</th>\n",
       "      <td>一百</td>\n",
       "      <td>56</td>\n",
       "    </tr>\n",
       "    <tr>\n",
       "      <th>2</th>\n",
       "      <td>一二三</td>\n",
       "      <td>20</td>\n",
       "    </tr>\n",
       "    <tr>\n",
       "      <th>3</th>\n",
       "      <td>一一零</td>\n",
       "      <td>48</td>\n",
       "    </tr>\n",
       "    <tr>\n",
       "      <th>4</th>\n",
       "      <td>一一一</td>\n",
       "      <td>80</td>\n",
       "    </tr>\n",
       "    <tr>\n",
       "      <th>5</th>\n",
       "      <td>一一八</td>\n",
       "      <td>82</td>\n",
       "    </tr>\n",
       "    <tr>\n",
       "      <th>6</th>\n",
       "      <td>一一二</td>\n",
       "      <td>30</td>\n",
       "    </tr>\n",
       "    <tr>\n",
       "      <th>7</th>\n",
       "      <td>一二一</td>\n",
       "      <td>50</td>\n",
       "    </tr>\n",
       "    <tr>\n",
       "      <th>8</th>\n",
       "      <td>一二二</td>\n",
       "      <td>44</td>\n",
       "    </tr>\n",
       "    <tr>\n",
       "      <th>9</th>\n",
       "      <td>一一二</td>\n",
       "      <td>56</td>\n",
       "    </tr>\n",
       "    <tr>\n",
       "      <th>10</th>\n",
       "      <td>一二四</td>\n",
       "      <td>78</td>\n",
       "    </tr>\n",
       "    <tr>\n",
       "      <th>11</th>\n",
       "      <td>一二四</td>\n",
       "      <td>99</td>\n",
       "    </tr>\n",
       "    <tr>\n",
       "      <th>12</th>\n",
       "      <td>一零一</td>\n",
       "      <td>80</td>\n",
       "    </tr>\n",
       "    <tr>\n",
       "      <th>13</th>\n",
       "      <td>常天</td>\n",
       "      <td>88</td>\n",
       "    </tr>\n",
       "    <tr>\n",
       "      <th>14</th>\n",
       "      <td>陆永剑</td>\n",
       "      <td>100</td>\n",
       "    </tr>\n",
       "  </tbody>\n",
       "</table>\n",
       "</div>"
      ],
      "text/plain": [
       "   name  confidence\n",
       "0   一百百          77\n",
       "1    一百          56\n",
       "2   一二三          20\n",
       "3   一一零          48\n",
       "4   一一一          80\n",
       "5   一一八          82\n",
       "6   一一二          30\n",
       "7   一二一          50\n",
       "8   一二二          44\n",
       "9   一一二          56\n",
       "10  一二四          78\n",
       "11  一二四          99\n",
       "12  一零一          80\n",
       "13   常天          88\n",
       "14  陆永剑         100"
      ]
     },
     "execution_count": 16,
     "metadata": {},
     "output_type": "execute_result"
    }
   ],
   "source": [
    "idCardInfo[['name', 'confidence']] #读取两列值"
   ]
  },
  {
   "cell_type": "code",
   "execution_count": 18,
   "metadata": {},
   "outputs": [
    {
     "name": "stdout",
     "output_type": "stream",
     "text": [
      "0     0.77\n",
      "1     0.56\n",
      "2     0.20\n",
      "3     0.48\n",
      "4     0.80\n",
      "5     0.82\n",
      "6     0.30\n",
      "7     0.50\n",
      "8     0.44\n",
      "9     0.56\n",
      "10    0.78\n",
      "11    0.99\n",
      "12    0.80\n",
      "13    0.88\n",
      "14    1.00\n",
      "Name: confidence, dtype: float64\n"
     ]
    }
   ],
   "source": [
    "confidence = idCardInfo['confidence']/100\n",
    "print(confidence)"
   ]
  },
  {
   "cell_type": "code",
   "execution_count": 19,
   "metadata": {},
   "outputs": [
    {
     "data": {
      "text/plain": [
       "65.86666666666666"
      ]
     },
     "execution_count": 19,
     "metadata": {},
     "output_type": "execute_result"
    }
   ],
   "source": [
    "idCardInfo[\"confidence\"].max() #求最大值\n",
    "\n",
    "idCardInfo[\"confidence\"].min() #求最小值\n",
    "\n",
    "idCardInfo[\"confidence\"].mean() # 求平均值"
   ]
  },
  {
   "cell_type": "code",
   "execution_count": 29,
   "metadata": {},
   "outputs": [
    {
     "name": "stdout",
     "output_type": "stream",
     "text": [
      "   name  confidence        money\n",
      "2   一二三          20         0.00\n",
      "1    一百          56       323.56\n",
      "6   一一二          30       330.00\n",
      "8   一二二          44      1544.00\n",
      "7   一二一          50      2750.00\n",
      "9   一一二          56      2856.00\n",
      "0   一百百          77      3333.22\n",
      "10  一二四          78      5478.00\n",
      "12  一零一          80     11380.00\n",
      "4   一一一          80     22280.00\n",
      "3   一一零          48     32348.00\n",
      "5   一一八          82     32382.00\n",
      "11  一二四          99     54599.00\n",
      "13   常天          88    113388.00\n",
      "14  陆永剑         100  44444100.00\n"
     ]
    }
   ],
   "source": [
    "'''\n",
    "值排序\n",
    "'''\n",
    "idCardInfo.sort_values([\"money\", \"confidence\"], inplace = True, ascending = True)\n",
    "print(idCardInfo)\n",
    "# help(idCardInfo.sort_values)\n",
    "# print(idCardInfo)"
   ]
  },
  {
   "cell_type": "code",
   "execution_count": 31,
   "metadata": {},
   "outputs": [
    {
     "name": "stdout",
     "output_type": "stream",
     "text": [
      "   name  confidence        money     sex\n",
      "0   一百百        77.0      3333.22    male\n",
      "1    一百        56.0       323.56    male\n",
      "2   一二三        20.0         0.00  female\n",
      "3   一一零        48.0     32348.00    male\n",
      "4   一一一        80.0     22280.00  female\n",
      "5   一一八        82.0     32382.00  female\n",
      "6   一一二        30.0       330.00  female\n",
      "7   一二一        50.0      2750.00  female\n",
      "8   一二二         NaN      1544.00    male\n",
      "9   一一二        56.0      2856.00  female\n",
      "10  一二四        78.0      5478.00    male\n",
      "11  一二四        99.0     54599.00    male\n",
      "12  一零一        80.0     11380.00    male\n",
      "13   常天        88.0    113388.00  female\n",
      "14  陆永剑       100.0  44444100.00    male\n"
     ]
    }
   ],
   "source": [
    "idCardInfo1 = pd.read_csv(\"idcard01.csv\", encoding=\"gbk\")\n",
    "print(idCardInfo1)"
   ]
  },
  {
   "cell_type": "code",
   "execution_count": 32,
   "metadata": {},
   "outputs": [
    {
     "data": {
      "text/plain": [
       "0     False\n",
       "1     False\n",
       "2     False\n",
       "3     False\n",
       "4     False\n",
       "5     False\n",
       "6     False\n",
       "7     False\n",
       "8      True\n",
       "9     False\n",
       "10    False\n",
       "11    False\n",
       "12    False\n",
       "13    False\n",
       "14    False\n",
       "Name: confidence, dtype: bool"
      ]
     },
     "execution_count": 32,
     "metadata": {},
     "output_type": "execute_result"
    }
   ],
   "source": [
    "pd.isnull(idCardInfo1[\"confidence\"])"
   ]
  },
  {
   "cell_type": "code",
   "execution_count": 33,
   "metadata": {},
   "outputs": [
    {
     "data": {
      "text/plain": [
       "0      77.0\n",
       "1      56.0\n",
       "2      20.0\n",
       "3      48.0\n",
       "4      80.0\n",
       "5      82.0\n",
       "6      30.0\n",
       "7      50.0\n",
       "9      56.0\n",
       "10     78.0\n",
       "11     99.0\n",
       "12     80.0\n",
       "13     88.0\n",
       "14    100.0\n",
       "Name: confidence, dtype: float64"
      ]
     },
     "execution_count": 33,
     "metadata": {},
     "output_type": "execute_result"
    }
   ],
   "source": [
    "#去掉空值 NAN\n",
    "conf_is_null = pd.isnull(idCardInfo1[\"confidence\"])\n",
    "idCardInfo1[\"confidence\"][conf_is_null == False]"
   ]
  },
  {
   "cell_type": "code",
   "execution_count": 47,
   "metadata": {},
   "outputs": [
    {
     "data": {
      "text/html": [
       "<div>\n",
       "<style scoped>\n",
       "    .dataframe tbody tr th:only-of-type {\n",
       "        vertical-align: middle;\n",
       "    }\n",
       "\n",
       "    .dataframe tbody tr th {\n",
       "        vertical-align: top;\n",
       "    }\n",
       "\n",
       "    .dataframe thead th {\n",
       "        text-align: right;\n",
       "    }\n",
       "</style>\n",
       "<table border=\"1\" class=\"dataframe\">\n",
       "  <thead>\n",
       "    <tr style=\"text-align: right;\">\n",
       "      <th></th>\n",
       "      <th>money</th>\n",
       "    </tr>\n",
       "    <tr>\n",
       "      <th>sex</th>\n",
       "      <th></th>\n",
       "    </tr>\n",
       "  </thead>\n",
       "  <tbody>\n",
       "    <tr>\n",
       "      <th>female</th>\n",
       "      <td>173986.00</td>\n",
       "    </tr>\n",
       "    <tr>\n",
       "      <th>male</th>\n",
       "      <td>44553105.78</td>\n",
       "    </tr>\n",
       "  </tbody>\n",
       "</table>\n",
       "</div>"
      ],
      "text/plain": [
       "              money\n",
       "sex                \n",
       "female    173986.00\n",
       "male    44553105.78"
      ]
     },
     "execution_count": 47,
     "metadata": {},
     "output_type": "execute_result"
    }
   ],
   "source": [
    "import numpy as np\n",
    "#分组的概念\n",
    "\n",
    "idCardInfo1.pivot_table(index=\"sex\", values=\"money\", aggfunc = np.sum)\n",
    "# help(idCardInfo1.pivot_table)\n",
    "# print(idCardInfo1)\n",
    "# help(idCardInfo1.pivot)\n",
    "# idCardInfo1.pivot(index=\"sex\", values=\"money\")"
   ]
  },
  {
   "cell_type": "code",
   "execution_count": 66,
   "metadata": {},
   "outputs": [
    {
     "name": "stdout",
     "output_type": "stream",
     "text": [
      "  name  confidence    money\n",
      "2  一二三          20      0.0\n",
      "6  一一二          30    330.0\n",
      "8  一二二          44   1544.0\n",
      "3  一一零          48  32348.0\n",
      "7  一二一          50   2750.0\n"
     ]
    },
    {
     "data": {
      "image/png": "[encoded data removed]",
      "text/plain": [
       "<Figure size 432x288 with 1 Axes>"
      ]
     },
     "metadata": {
      "needs_background": "light"
     },
     "output_type": "display_data"
    }
   ],
   "source": [
    "import matplotlib.pyplot as plt\n",
    "%matplotlib inline  \n",
    "\n",
    "# plt.plot()\n",
    "# plt.show()\n",
    "d = idCardInfo.sort_values(\"confidence\", ascending=True).head()\n",
    "print(d)\n",
    "plt.xlabel(\"confidence\")\n",
    "plt.yticks(rotation=45)\n",
    "plt.ylabel(\"money\")\n",
    "plt.title(\"confidence-money\")\n",
    "plt.plot(d[\"confidence\"], d[\"money\"])\n",
    "plt.show()"
   ]
  },
  {
   "cell_type": "code",
   "execution_count": 67,
   "metadata": {},
   "outputs": [
    {
     "data": {
      "image/png": "[encoded data removed]",
      "text/plain": [
       "<Figure size 432x288 with 2 Axes>"
      ]
     },
     "metadata": {
      "needs_background": "light"
     },
     "output_type": "display_data"
    }
   ],
   "source": [
    "#matplotlib画多图\n",
    "\n",
    "fig = plt.figure()\n",
    "fig1 = fig.add_subplot(2,2,1)\n",
    "fig2 = fig.add_subplot(2,2,4)\n",
    "plt.plot()\n",
    "plt.show()"
   ]
  },
  {
   "cell_type": "code",
   "execution_count": 68,
   "metadata": {},
   "outputs": [
    {
     "data": {
      "image/png": "[encoded data removed]",
      "text/plain": [
       "<Figure size 432x288 with 2 Axes>"
      ]
     },
     "metadata": {
      "needs_background": "light"
     },
     "output_type": "display_data"
    }
   ],
   "source": [
    "fig = plt.figure()\n",
    "fig1 = fig.add_subplot(2,2,1)\n",
    "fig2 = fig.add_subplot(2,2,4)\n",
    "fig1.plot(idCardInfo[\"money\"], idCardInfo[\"confidence\"])\n",
    "fig2.plot(idCardInfo[\"confidence\"], idCardInfo[\"money\"])\n",
    "plt.show()"
   ]
  },
  {
   "cell_type": "code",
   "execution_count": 70,
   "metadata": {},
   "outputs": [
    {
     "data": {
      "image/png": "[encoded data removed]",
      "text/plain": [
       "<Figure size 1152x432 with 1 Axes>"
      ]
     },
     "metadata": {
      "needs_background": "light"
     },
     "output_type": "display_data"
    }
   ],
   "source": [
    "import numpy as np\n",
    "\n",
    "# figure(num=None, figsize=None, dpi=None, facecolor=None, edgecolor=None, frameon=True)\n",
    "\n",
    "# num:图像编号或名称，数字为编号 ，字符串为名称\n",
    "# figsize:指定figure的宽和高，单位为英寸；\n",
    "# dpi参数指定绘图对象的分辨率，即每英寸多少个像素，缺省值为80\n",
    "# facecolor:背景颜色\n",
    "# edgecolor:边框颜色\n",
    "# frameon:是否显示边框\n",
    "\n",
    "fig = plt.figure(figsize=(16,6))\n",
    "colors = ['red', 'blue', 'green', 'orange', 'black']\n",
    "h = np.arange(10, 100, 10)\n",
    "for i in range(5):\n",
    "    v = 1000*i + np.random.randn(9,1)*1000\n",
    "    label = str(i*10)\n",
    "    plt.plot(h, v, c = colors[i], label=label)\n",
    "plt.legend(loc='best') #显示折线图标签，即右下角的小图\n",
    "plt.show()"
   ]
  },
  {
   "cell_type": "code",
   "execution_count": 4,
   "metadata": {},
   "outputs": [
    {
     "data": {
      "image/png": "[encoded data removed]",
      "text/plain": [
       "<Figure size 720x720 with 4 Axes>"
      ]
     },
     "metadata": {
      "needs_background": "light"
     },
     "output_type": "display_data"
    }
   ],
   "source": [
    "import numpy as np\n",
    "import matplotlib.pyplot as plt\n",
    "%matplotlib inline \n",
    "\n",
    "data = np.random.randn(2, 100)\n",
    "\n",
    "fig, axs = plt.subplots(2, 2, figsize=(10, 10))\n",
    "axs[0, 0].hist(data[0]) #直方图\n",
    "axs[1, 0].scatter(data[0], data[1]) #散点图 \n",
    "axs[0, 1].plot(data[0], data[1]) #折线图\n",
    "axs[1, 1].hist2d(data[0], data[1]) #二维矩阵图\n",
    "plt.show()"
   ]
  },
  {
   "cell_type": "code",
   "execution_count": 6,
   "metadata": {},
   "outputs": [
    {
     "name": "stdout",
     "output_type": "stream",
     "text": [
      "Help on built-in function randn:\n",
      "\n",
      "randn(...) method of mtrand.RandomState instance\n",
      "    randn(d0, d1, ..., dn)\n",
      "    \n",
      "    Return a sample (or samples) from the \"standard normal\" distribution.\n",
      "    \n",
      "    If positive, int_like or int-convertible arguments are provided,\n",
      "    `randn` generates an array of shape ``(d0, d1, ..., dn)``, filled\n",
      "    with random floats sampled from a univariate \"normal\" (Gaussian)\n",
      "    distribution of mean 0 and variance 1 (if any of the :math:`d_i` are\n",
      "    floats, they are first converted to integers by truncation). A single\n",
      "    float randomly sampled from the distribution is returned if no\n",
      "    argument is provided.\n",
      "    \n",
      "    This is a convenience function.  If you want an interface that takes a\n",
      "    tuple as the first argument, use `numpy.random.standard_normal` instead.\n",
      "    \n",
      "    Parameters\n",
      "    ----------\n",
      "    d0, d1, ..., dn : int, optional\n",
      "        The dimensions of the returned array, should be all positive.\n",
      "        If no argument is given a single Python float is returned.\n",
      "    \n",
      "    Returns\n",
      "    -------\n",
      "    Z : ndarray or float\n",
      "        A ``(d0, d1, ..., dn)``-shaped array of floating-point samples from\n",
      "        the standard normal distribution, or a single such float if\n",
      "        no parameters were supplied.\n",
      "    \n",
      "    See Also\n",
      "    --------\n",
      "    standard_normal : Similar, but takes a tuple as its argument.\n",
      "    \n",
      "    Notes\n",
      "    -----\n",
      "    For random samples from :math:`N(\\mu, \\sigma^2)`, use:\n",
      "    \n",
      "    ``sigma * np.random.randn(...) + mu``\n",
      "    \n",
      "    Examples\n",
      "    --------\n",
      "    >>> np.random.randn()\n",
      "    2.1923875335537315 #random\n",
      "    \n",
      "    Two-by-four array of samples from N(3, 6.25):\n",
      "    \n",
      "    >>> 2.5 * np.random.randn(2, 4) + 3\n",
      "    array([[-4.49401501,  4.00950034, -1.81814867,  7.29718677],  #random\n",
      "           [ 0.39924804,  4.68456316,  4.99394529,  4.84057254]]) #random\n",
      "\n"
     ]
    }
   ],
   "source": [
    "help(np.random.randn)"
   ]
  },
  {
   "cell_type": "code",
   "execution_count": 11,
   "metadata": {},
   "outputs": [
    {
     "data": {
      "text/plain": [
       "array([[ 0.40571036,  0.58503694, -1.22976886, -1.38297529, -0.9919369 ,\n",
       "        -0.16604328,  0.05251332,  0.23940117, -0.67411223,  0.42747062,\n",
       "        -0.69501274,  0.51655433,  1.32922346,  0.84864027,  1.01362389,\n",
       "        -2.95929714, -0.97537267,  2.2535769 ,  0.68414752, -1.6838196 ,\n",
       "         0.64409875,  0.51298041, -1.53348651, -0.82212075, -0.58524245,\n",
       "        -1.388804  , -0.06148019,  1.12462715, -0.75909058,  0.27001531,\n",
       "        -0.52593681,  1.37965849,  1.56354933,  1.93608337,  1.33009326,\n",
       "        -2.17741735, -1.02010158,  0.2419793 , -0.11331823, -1.90789453,\n",
       "        -0.19239881, -1.16273621, -2.46544764,  1.17395248,  0.93688992,\n",
       "        -0.22420562,  1.17310336, -1.52368716, -0.12221179, -0.65658044,\n",
       "        -1.30600181, -1.21381479, -0.35762435,  1.76156935, -2.36291211,\n",
       "         0.05293465, -1.13219397,  0.5452069 , -1.91808354,  0.47177707,\n",
       "        -0.5882702 ,  1.15415352, -0.41831633,  0.66069179,  0.41126261,\n",
       "         2.14259632, -1.48473912,  1.69431934, -0.61194518, -0.65968912,\n",
       "         0.37215121,  1.37954564, -0.37096659, -0.04493862,  1.16525218,\n",
       "        -0.42517774, -0.44357653,  0.28433319, -2.3083406 , -1.14918627,\n",
       "        -0.08538551,  1.57192439,  0.53405127,  0.40841801,  1.57003488,\n",
       "         0.0108311 ,  0.7336461 , -0.80550256,  1.52820982,  0.13774902,\n",
       "         0.88504413,  0.22493947,  1.62514153,  0.69635418, -0.95312667,\n",
       "        -1.95479046, -0.576231  ,  0.29918676, -0.74031499, -1.14096136],\n",
       "       [-0.9466349 , -1.3306352 ,  0.1213201 ,  0.36806106, -0.9470231 ,\n",
       "        -1.52773395, -0.89129115,  0.36979657,  1.47597928,  0.13420375,\n",
       "        -1.71694224, -1.48610662, -0.64551958, -0.43799915, -0.82848149,\n",
       "         1.23901325,  0.16742108,  0.71532781,  0.90146565, -0.48478952,\n",
       "         0.12494882, -0.71527271, -1.13585634, -2.70583689,  1.41634328,\n",
       "        -1.39409605,  0.32189424, -0.19277459,  0.91463043,  0.30083371,\n",
       "         0.27675458,  0.75498285, -1.17542347,  0.89095128, -0.4698097 ,\n",
       "         0.95165865, -1.29325226,  0.97180794,  1.09581804,  0.3069958 ,\n",
       "        -2.60643793,  1.36084564, -0.21446875,  0.81727738,  0.25510053,\n",
       "         0.75511052, -0.63132522, -1.42937792,  0.78558613, -0.35047551,\n",
       "         1.40828271,  0.22133085, -0.7001336 ,  0.49907191, -0.34973889,\n",
       "        -0.65209801,  0.13215748,  1.23695626,  0.46350934,  1.57322438,\n",
       "        -1.89534096, -0.16123233, -2.28013548,  1.20109804, -0.11125058,\n",
       "         0.59188506,  1.67582263, -1.64550338, -1.03999093, -1.11780426,\n",
       "        -2.35883583,  1.12766677,  0.51106532, -0.16575884, -1.55897829,\n",
       "        -0.58992218, -1.74771298,  0.84178765, -0.3043252 ,  1.11429609,\n",
       "         1.10463836,  0.66654522, -0.66436575, -1.54170401,  0.79466181,\n",
       "        -0.54867823, -0.30875321, -0.82419559,  0.3649315 , -1.13161369,\n",
       "        -0.82161367,  1.54179257, -0.10207309,  1.31870983, -1.02784302,\n",
       "         1.83605582, -0.29598294,  0.97250171, -0.30300774,  0.01733299]])"
      ]
     },
     "execution_count": 11,
     "metadata": {},
     "output_type": "execute_result"
    }
   ],
   "source": [
    "np.random.randn(2, 100)"
   ]
  },
  {
   "cell_type": "code",
   "execution_count": null,
   "metadata": {},
   "outputs": [],
   "source": []
  }
 ],
 "metadata": {
  "kernelspec": {
   "display_name": "Python 3",
   "language": "python",
   "name": "python3"
  },
  "language_info": {
   "codemirror_mode": {
    "name": "ipython",
    "version": 3
   },
   "file_extension": ".py",
   "mimetype": "text/x-python",
   "name": "python",
   "nbconvert_exporter": "python",
   "pygments_lexer": "ipython3",
   "version": "3.7.1"
  }
 },
 "nbformat": 4,
 "nbformat_minor": 2
}
