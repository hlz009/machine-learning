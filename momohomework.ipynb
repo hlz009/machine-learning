{
 "cells": [
  {
   "cell_type": "code",
   "execution_count": 20,
   "metadata": {},
   "outputs": [
    {
     "name": "stdout",
     "output_type": "stream",
     "text": [
      "3.533333333333333\n"
     ]
    }
   ],
   "source": [
    "# -*- coding: utf-8 -*-\n",
    "\n",
    "#python基础语法习题一\n",
    "def getGPA(score_arr, credit_arr):\n",
    "    gpa = 0\n",
    "    credits = 0\n",
    "    if type(score_arr) != list:\n",
    "        return '请输入正确的数据格式：score_arr,列表'\n",
    "    elif type(credit_arr) != list:\n",
    "        return '请输入正确的数据格式：credit_arr,列表'\n",
    "    elif len(score_arr) != len(credit_arr):\n",
    "        return '列表长度要一致'\n",
    "    i = 0\n",
    "    for score in score_arr:\n",
    "        gpa += getGradePoint(score)*credit_arr[i]\n",
    "        credits += credit_arr[i]\n",
    "        i+=1\n",
    "    return gpa/credits\n",
    "\n",
    "def getGradePoint(score):\n",
    "    if 90 <= score <= 100:\n",
    "        return 4.0\n",
    "    elif 85<= score <= 89:\n",
    "        return 3.7\n",
    "    elif 82 <= score <= 84:\n",
    "        return 3.3\n",
    "    elif 78 <= score <= 81:\n",
    "        return 3.0\n",
    "    else:\n",
    "        return 0\n",
    "\n",
    "print(getGPA(score_arr=[84,90],credit_arr=[2,1]))"
   ]
  },
  {
   "cell_type": "code",
   "execution_count": 65,
   "metadata": {},
   "outputs": [
    {
     "name": "stdout",
     "output_type": "stream",
     "text": [
      "5-100的和为： 5040\n"
     ]
    }
   ],
   "source": [
    "# -*- coding: utf-8 -*-\n",
    "\n",
    "#python基础语法习题二\n",
    "sum = 0\n",
    "for i in range(5, 101, 1):\n",
    "    sum += i\n",
    "print('5-100的和为：',sum)"
   ]
  },
  {
   "cell_type": "code",
   "execution_count": 16,
   "metadata": {},
   "outputs": [
    {
     "name": "stdout",
     "output_type": "stream",
     "text": [
      "请输入学生姓名：hu\n",
      "请输入学生得分：70\n",
      "请输入学生姓名：yun\n",
      "请输入学生得分：80\n",
      "请输入学生姓名：li\n",
      "请输入学生得分：90\n",
      "请输入学生姓名：end\n",
      "\n",
      "\n",
      "前三名学生：\n",
      "姓名：li，得分：90\n",
      "姓名：yun，得分：80\n",
      "姓名：hu，得分：70\n",
      "\n",
      "\n",
      "需要补考的学生：\n",
      "暂时没有需要补考的学生！\n"
     ]
    }
   ],
   "source": [
    "# -*- coding: utf-8 -*-\n",
    "\n",
    "#列表习题一\n",
    "students = []\n",
    "\n",
    "while True:\n",
    "    name = input('请输入学生姓名：')\n",
    "    if name == 'end':\n",
    "        break\n",
    "    score = int(input('请输入学生得分：'))\n",
    "    while score < 0 or score >100:\n",
    "        print('分数只能在0-100之间，请重新输入')\n",
    "        score = int(input('请输入学生得分：'))\n",
    "    student = (name, score)\n",
    "    students.append(student)\n",
    "\n",
    "print('\\n')\n",
    "sort_students = sorted(students, key = lambda x: x[1], reverse=True)\n",
    "print('前三名学生：')\n",
    "for i in range(3):\n",
    "    print('姓名：%s，得分：%d' %(sort_students[i][0], sort_students[i][1]))\n",
    "\n",
    "print('\\n')\n",
    "print('需要补考的学生：')\n",
    "i = 0\n",
    "for name, score in sort_students:\n",
    "    if score < 60:\n",
    "        print('姓名：%s，得分：%d' %(name, score))\n",
    "        i += 1\n",
    "if i == 0:\n",
    "    print('暂时没有需要补考的学生！')"
   ]
  },
  {
   "cell_type": "code",
   "execution_count": 12,
   "metadata": {},
   "outputs": [
    {
     "name": "stdout",
     "output_type": "stream",
     "text": [
      "请输入同学姓名：yun\n",
      "请输入同学身高（cm）：2\n",
      "请输入同学姓名：li\n",
      "请输入同学身高（cm）：100\n",
      "请输入同学姓名：cao\n",
      "请输入同学身高（cm）：30\n",
      "请输入同学姓名：end\n",
      "\n",
      "\n",
      "最高的同学：\n",
      "姓名：li，身高：100\n"
     ]
    }
   ],
   "source": [
    "# -*- coding: utf-8 -*-\n",
    "\n",
    "#列表习题二\n",
    "classmates = []\n",
    "\n",
    "while True:\n",
    "    name = input('请输入同学姓名：')\n",
    "    if name == 'end':\n",
    "        break\n",
    "    height = int(input('请输入同学身高（cm）：'))\n",
    "    while height < 0:\n",
    "        print('身高须大于0，请重新输入')\n",
    "        height = int(input('请输入同学身高（cm）：'))\n",
    "    classmate = (name, height)\n",
    "    classmates.append(classmate)\n",
    "\n",
    "print('\\n')\n",
    "sort_classmates = sorted(classmates, key = lambda x: x[1])\n",
    "print('最高的同学：')\n",
    "count = len(sort_classmates)\n",
    "print('姓名：%s，身高：%d' %(sort_classmates[count-1][0], sort_classmates[count-1][1]))"
   ]
  },
  {
   "cell_type": "code",
   "execution_count": 48,
   "metadata": {},
   "outputs": [
    {
     "name": "stdout",
     "output_type": "stream",
     "text": [
      "请投票：hu\n",
      "请投票：hu\n",
      "请投票：li\n",
      "请投票：li\n",
      "请投票：end\n",
      "投票结果如下：\n",
      "{'hu': 2, 'li': 2}\n",
      "\n",
      "\n",
      "请为 hu,li, 投票：hu\n",
      "请为 hu,li, 投票：hu\n",
      "请为 hu,li, 投票：li\n",
      "请为 hu,li, 投票：li\n",
      "请为 hu,li, 投票：end\n",
      "投票结果如下：\n",
      "{'hu': 2, 'li': 2}\n",
      "\n",
      "\n",
      "请为 hu,li, 投票：hu\n",
      "请为 hu,li, 投票：lee\n",
      "投票的人只能为：hu,li,\n",
      "请为 hu,li, 投票：hu\n",
      "请为 hu,li, 投票：li\n",
      "请为 hu,li, 投票：li\n",
      "请为 hu,li, 投票：li\n",
      "请为 hu,li, 投票：end\n",
      "投票结果如下：\n",
      "{'hu': 2, 'li': 3}\n",
      "\n",
      "\n",
      "班长为：li\n"
     ]
    }
   ],
   "source": [
    "# -*- coding: utf-8 -*-\n",
    "\n",
    "#字典习题一\n",
    "votes = {}\n",
    "\n",
    "#反复投票，返回获取最大票数的人\n",
    "def voteagain(second_votes):\n",
    "    while len(second_votes) > 1:\n",
    "        namestr = ''\n",
    "        for name, count in second_votes.items():\n",
    "            namestr += name + ','\n",
    "        while True:\n",
    "            name = input('请为 %s 投票：' % namestr)\n",
    "            if name == 'end':\n",
    "                break\n",
    "            count = second_votes.get(name, -1)\n",
    "            while count == -1:\n",
    "                print('只能为：%s  投票' % namestr)\n",
    "                name = input('请为 %s 投票：' % namestr)\n",
    "                count = second_votes.get(name, -1)   \n",
    "            second_votes[name] = count+1\n",
    "        print('投票结果如下：')\n",
    "        print(second_votes)\n",
    "        print('\\n')\n",
    "        sort_second_votes = sorted(second_votes.items(), key = lambda x: x[1], reverse = True)\n",
    "        max_count = sort_second_votes[0][1]\n",
    "        second_votes = {}\n",
    "        for name, count in sort_second_votes:\n",
    "            if count == max_count:\n",
    "                second_votes[name] = 0\n",
    "            else:\n",
    "                break\n",
    "    return second_votes\n",
    "\n",
    "while True:\n",
    "    name = input('请投票：')\n",
    "    if name == 'end':\n",
    "        break\n",
    "    count = votes.setdefault(name, 0)\n",
    "    votes[name] = count+1\n",
    "print('投票结果如下：')\n",
    "print(votes)\n",
    "print('\\n')\n",
    "\n",
    "sort_votes = sorted(votes.items(), key = lambda x: x[1], reverse = True)\n",
    "max_count = sort_votes[0][1]\n",
    "second_votes = {}\n",
    "i = 0\n",
    "for name, count in sort_votes:\n",
    "    if count == max_count:\n",
    "        second_votes[name] = 0\n",
    "        i+=1\n",
    "    else:\n",
    "        break\n",
    "\n",
    "if i > 1:#再次投票\n",
    "    second_votes = voteagain(second_votes)\n",
    "\n",
    "print('班长为：%s' % list(second_votes.keys())[0])"
   ]
  },
  {
   "cell_type": "code",
   "execution_count": 60,
   "metadata": {},
   "outputs": [
    {
     "name": "stdout",
     "output_type": "stream",
     "text": [
      "本店菜如下：\n",
      "{'鱼香茄子': 28, '肉末豆腐': 25, '宫保鸡丁': 30, '西湖醋鱼': 40, '飞龙汤': 50}\n",
      "客人姓名：hu\n",
      "菜：yu\n",
      "没有 yu\n",
      "菜：鱼香茄子\n",
      "菜：肉末豆腐\n",
      "菜：fi\n",
      "没有 fi\n",
      "菜：finish\n",
      "客人姓名：end\n",
      "点餐如下：\n",
      "客人姓名：hu\n",
      "总价：53\n",
      "菜：['鱼香茄子', '肉末豆腐']\n",
      "\n",
      "\n"
     ]
    }
   ],
   "source": [
    "# -*- coding: utf-8 -*-\n",
    "\n",
    "#字典习题二\n",
    "menu = {\"鱼香茄子\":28,\"肉沫豆腐\":25,\"宫保鸡丁\":30,\"西湖醋鱼\":40,\"飞龙汤\":50}\n",
    "guests = []\n",
    "\n",
    "print(\"本店菜如下：\")\n",
    "print(menu)\n",
    "while True:\n",
    "    name = input('客人姓名：')\n",
    "    if name == 'end':\n",
    "        break\n",
    "    guest= {}\n",
    "    guest[\"name\"] = name \n",
    "    dishes = []\n",
    "    price = 0\n",
    "    while True:\n",
    "        dish = input('菜：')\n",
    "        if dish == 'finish':\n",
    "            break\n",
    "        elif dish not in menu:\n",
    "            print(\"没有 %s\" % dish)\n",
    "            continue\n",
    "        price += menu[dish]\n",
    "        dishes.append(dish)\n",
    "    guest[\"price\"] = price\n",
    "    guest[\"dish\"] = dishes    \n",
    "    guests.append(guest)\n",
    "    \n",
    "print('点餐如下：')\n",
    "for guest in guests:\n",
    "    print('客人姓名：%s' % guest[\"name\"])\n",
    "    print('总价：%d' % guest[\"price\"])\n",
    "    print('菜：%s' % guest[\"dish\"])\n",
    "    print('\\n')\n"
   ]
  },
  {
   "cell_type": "code",
   "execution_count": 3,
   "metadata": {},
   "outputs": [
    {
     "name": "stdout",
     "output_type": "stream",
     "text": [
      "请输入用户名hu\n",
      "请输入密码\n",
      "用户名错误！\n",
      "请输入用户名momo\n",
      "密码不能为空！\n",
      "请输入密码12345\n",
      "用户名和密码输入正确！\n",
      "登录成功\n"
     ]
    }
   ],
   "source": [
    "# -*- coding: utf-8 -*-\n",
    "\n",
    "#函数习题一\n",
    "\n",
    "\n",
    "def load(user, password):\n",
    "    result={\"user\":True,\"password\":True}\n",
    "    if not user.strip():\n",
    "        result[\"user\"] = False\n",
    "        print('用户名不能为空！')\n",
    "    elif user != 'momo':\n",
    "        result[\"user\"] = False\n",
    "        print('用户名错误！')\n",
    "    else:\n",
    "        if not password.strip():\n",
    "            result[\"password\"] = False\n",
    "            print('密码不能为空！')\n",
    "        elif password != '12345':\n",
    "            result[\"password\"] = False\n",
    "            print('密码错误！')    \n",
    "    return result\n",
    "\n",
    "\n",
    "def main():\n",
    "    user = input('请输入用户名')\n",
    "    password = input('请输入密码')\n",
    "    while True:\n",
    "        result = load(user, password)\n",
    "        if not result[\"user\"]:\n",
    "            user = input('请输入用户名')\n",
    "        elif not result[\"password\"]:\n",
    "            password = input('请输入密码')\n",
    "        else:\n",
    "            break\n",
    "    print('用户名和密码输入正确！')\n",
    "    print('登录成功')\n",
    "\n",
    "main()\n",
    "        "
   ]
  },
  {
   "cell_type": "code",
   "execution_count": 9,
   "metadata": {},
   "outputs": [
    {
     "name": "stdout",
     "output_type": "stream",
     "text": [
      "151200\n"
     ]
    }
   ],
   "source": [
    "# -*- coding: utf-8 -*-\n",
    "\n",
    "#函数习题二\n",
    "#或者直接用列表参数\n",
    "def multiply_num(*nums):\n",
    "    result = 1\n",
    "    for num in nums:\n",
    "        result *= num\n",
    "    return result\n",
    "\n",
    "print(multiply_num(5,6,7,8,9,10))"
   ]
  },
  {
   "cell_type": "code",
   "execution_count": null,
   "metadata": {},
   "outputs": [],
   "source": []
  }
 ],
 "metadata": {
  "kernelspec": {
   "display_name": "Python 3",
   "language": "python",
   "name": "python3"
  },
  "language_info": {
   "codemirror_mode": {
    "name": "ipython",
    "version": 3
   },
   "file_extension": ".py",
   "mimetype": "text/x-python",
   "name": "python",
   "nbconvert_exporter": "python",
   "pygments_lexer": "ipython3",
   "version": "3.7.1"
  }
 },
 "nbformat": 4,
 "nbformat_minor": 2
}
